{
 "cells": [
  {
   "cell_type": "code",
   "execution_count": 1,
   "metadata": {},
   "outputs": [],
   "source": [
    "from numpy import loadtxt,e,asarray,var,zeros,mean,cumsum,log\n",
    "from pylab import *\n",
    "from math import sqrt \n",
    "from scipy.optimize import curve_fit\n",
    "from operator import itemgetter \n",
    "from random import*\n",
    "\n",
    "\n",
    "def MFDFA(X,minq,maxq,dq,M):\n",
    "    A=[];B=[];C=[];D=[];E=[]\n",
    "    \n",
    "\n",
    "    Y=cumsum(X-mean(X))\n",
    "    for q in np.arange(minq,maxq,dq):\n",
    "        for dN in M:\n",
    "            N0=0\n",
    "            while N0+dN<=len(Y):\n",
    "                Z=Y[N0:N0+dN]\n",
    "                t=arange(len(Z))\n",
    "                f=polyfit(t,Z,3)\n",
    "                fit=polyval(f,t)\n",
    "                rms= mean((Z-fit)**2)\n",
    "                A.append(rms)\n",
    "                N0=N0+dN\n",
    "            A=asarray(A)\n",
    "            if q==0:\n",
    "                B.append(log(exp(0.5*mean(log(A)))))\n",
    "            else:\n",
    "                b=(mean(pow(A,q/2.0)))**(1.0/q)\n",
    "                B.append(log(b))\n",
    "            A=[]\n",
    "            C.append(log(dN))\n",
    "        B=asarray(B)\n",
    "        C=asarray(C)\n",
    "        def func(x,a,b):\n",
    "            return a*x+b  \n",
    "        popt,pcov=curve_fit(func,C,B)\n",
    "        #print \"a = %s , b = %s\" % (popt[0], popt[1])\n",
    "        tauq=q*popt[0]-1\n",
    "        D.append(tauq)\n",
    "        E.append(q)\n",
    "        B=[]\n",
    "        C=[]\n",
    "    D=asarray(D)\n",
    "    E=asarray(E)\n",
    "    hq = diff(D)/(E[1]-E[0])\n",
    "    Dq = (E[:-1]*hq) - D[:-1]\n",
    "    D=[]\n",
    "    E=[]\n",
    "    \n",
    "    title(\"dfa Multifractal spectrum \")\n",
    "    ylabel(r\"$f(\\alpha)$\")\n",
    "    xlabel(r\"$\\alpha$\")\n",
    "    ylim(0,1.5)\n",
    "    return      plot(hq,Dq,color=\"red\",linestyle=\"-\",marker='', label=\"dfa Multifractal spectrum \")\n"
   ]
  },
  {
   "cell_type": "code",
   "execution_count": null,
   "metadata": {},
   "outputs": [],
   "source": []
  }
 ],
 "metadata": {
  "kernelspec": {
   "display_name": "Python 3",
   "language": "python",
   "name": "python3"
  },
  "language_info": {
   "codemirror_mode": {
    "name": "ipython",
    "version": 3
   },
   "file_extension": ".py",
   "mimetype": "text/x-python",
   "name": "python",
   "nbconvert_exporter": "python",
   "pygments_lexer": "ipython3",
   "version": "3.8.3"
  }
 },
 "nbformat": 4,
 "nbformat_minor": 4
}
