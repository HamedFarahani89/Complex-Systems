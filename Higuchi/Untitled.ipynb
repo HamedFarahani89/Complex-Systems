{
 "cells": [
  {
   "cell_type": "code",
   "execution_count": null,
   "metadata": {},
   "outputs": [],
   "source": [
    "from mat4py import loadmat\n",
    "import numpy as np\n",
    "import math\n",
    "from scipy.optimize import curve_fit\n",
    "import matplotlib.pyplot as plt\n",
    "\n",
    "#same function for producing just data with 0.0001 length distance\n",
    "def weierstrassdata(t,D):\n",
    "    y=[]\n",
    "    tt=[]\n",
    "    for i in np.arange(0,t,0.0001):\n",
    "        x = []\n",
    "        tt.append(i)\n",
    "        for n in range(0,400):\n",
    "            x.append(((np.cos((2**n)*i))/(2**((n)*(2-D)))))\n",
    "        y.append(sum(x))\n",
    "    return y\n",
    "\n",
    "mylist = weierstrassdata(2*np.pi,1.8)\n",
    "\n",
    "\n",
    "K=list(range(2,10000))\n",
    "N=len(mylist)\n",
    "myldsm=[]\n",
    "for k in K:\n",
    "    mylds=[]\n",
    "    for m in range(0,k):\n",
    "        myl=(mylist[m::k])\n",
    "        myld= [myl[i+1]-myl[i] for i in range(len(myl)-1)]\n",
    "        Norm= (N-1)/((int((N-m)/k)*k))\n",
    "        mylds.append((1/k)*((sum(myld))*(Norm)))\n",
    "    myldsm.append(np.mean(np.array(mylds)))    \n",
    "LK=[math.log10(1/i) for i in K]\n",
    "Lmyldsm=[math.log10(abs(i)) for i in myldsm ]\n",
    "#print(LK,Lmyldsm)\n",
    "plt.plot(LK,Lmyldsm)\n",
    "def func(x,a,b):\n",
    "    return a*x+b  \n",
    "popt,pcov=curve_fit(func,LK,Lmyldsm)\n",
    "print(popt[0], popt[1])"
   ]
  },
  {
   "cell_type": "code",
   "execution_count": null,
   "metadata": {},
   "outputs": [],
   "source": []
  }
 ],
 "metadata": {
  "kernelspec": {
   "display_name": "Python 3",
   "language": "python",
   "name": "python3"
  },
  "language_info": {
   "codemirror_mode": {
    "name": "ipython",
    "version": 3
   },
   "file_extension": ".py",
   "mimetype": "text/x-python",
   "name": "python",
   "nbconvert_exporter": "python",
   "pygments_lexer": "ipython3",
   "version": "3.8.3"
  }
 },
 "nbformat": 4,
 "nbformat_minor": 4
}
