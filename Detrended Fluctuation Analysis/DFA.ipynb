{
 "cells": [
  {
   "cell_type": "markdown",
   "metadata": {},
   "source": [
    "DFA algorithm:\n",
    "1.  Mean-Centred cumulative sum\n",
    "2.  Epoches\n",
    "3.  Detrend\n",
    "4.  Root mean square\n",
    "5.  Repeat for each scale\n",
    "6.  Compute linear fit between log-scale and log-RMS         "
   ]
  },
  {
   "cell_type": "code",
   "execution_count": 1,
   "metadata": {},
   "outputs": [],
   "source": [
    "from mat4py import loadmat\n",
    "import numpy as np\n",
    "import math\n",
    "from scipy.optimize import curve_fit\n",
    "import matplotlib.pyplot as plt\n",
    "\n",
    "#mylist is your data\n",
    "#M is window size\n",
    "\n",
    "def DFA (mylist, M):\n",
    "    MC= mylist-np.mean(mylist)\n",
    "    Y=np.cumsum(MC)\n",
    "    N0=0\n",
    "    rmsf=[]\n",
    "    for dN in M:\n",
    "            N0=0\n",
    "            rms=[]\n",
    "            while N0+dN<=len(Y):\n",
    "                Z=Y[N0:N0+dN]\n",
    "                t=range(len(Z))\n",
    "                f=np.polyfit(t,Z,1)\n",
    "                fit=np.polyval(f,t)\n",
    "                dtr=(Z-fit)\n",
    "                y = np.array(dtr)\n",
    "                rms.append(np.sqrt(np.mean(y**2)))\n",
    "                N0=N0+dN\n",
    "            rmsf.append(np.mean(np.array(rms)))\n",
    "    LM=[math.log10(i) for i in M]\n",
    "    Lrmsf=[math.log10(i) for i in rmsf]\n",
    "    #plt.plot(LM,Lrmsf)\n",
    "    def func(x,a,b):\n",
    "        return a*x+b  \n",
    "    popt,pcov=curve_fit(func,LM,Lrmsf)\n",
    "    return print(popt[0])\n"
   ]
  },
  {
   "cell_type": "code",
   "execution_count": null,
   "metadata": {},
   "outputs": [],
   "source": []
  }
 ],
 "metadata": {
  "kernelspec": {
   "display_name": "Python 3",
   "language": "python",
   "name": "python3"
  },
  "language_info": {
   "codemirror_mode": {
    "name": "ipython",
    "version": 3
   },
   "file_extension": ".py",
   "mimetype": "text/x-python",
   "name": "python",
   "nbconvert_exporter": "python",
   "pygments_lexer": "ipython3",
   "version": "3.8.3"
  }
 },
 "nbformat": 4,
 "nbformat_minor": 4
}
